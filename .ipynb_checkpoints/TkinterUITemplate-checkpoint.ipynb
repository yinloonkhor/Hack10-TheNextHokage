{
 "cells": [
  {
   "cell_type": "code",
   "execution_count": 1,
   "id": "bd447ab7",
   "metadata": {},
   "outputs": [
    {
     "name": "stdout",
     "output_type": "stream",
     "text": [
      "Option 2 selected\n",
      "Option 1 selected\n",
      "'Exit' selected\n"
     ]
    }
   ],
   "source": [
    "import tkinter as tk\n",
    "import os\n",
    "\n",
    "\n",
    "class MainMenu:\n",
    "    def __init__(self, root):\n",
    "        self.root = root\n",
    "        self.root.title(\"The Next Hokage\")\n",
    "        self.root.geometry(\"700x500\")\n",
    "        \n",
    "        # Load the image\n",
    "        path = os.getcwd() + \"\\\\animation\\\\bg.png\"\n",
    "        self.background_image = tk.PhotoImage(file=path)\n",
    "\n",
    "        # Create a label to hold the image\n",
    "        self.background_label = tk.Label(self.root, image=self.background_image)\n",
    "        self.background_label.place(x=0, y=0, relwidth=1, relheight=1)\n",
    "        \n",
    "        self.create_widgets()\n",
    "\n",
    "    def create_widgets(self):\n",
    "        # Adding title\n",
    "        title_label = tk.Label(self.root, text=\"The Next Hokage\", font=(\"Comic Sans MS\", 40, \"bold\"), bg=\"white\", fg=\"#FF8C00\")\n",
    "        title_label.pack(pady=20)  # Padding above the title label\n",
    "        \n",
    "        \n",
    "        frame = tk.Frame(self.root)\n",
    "        frame.pack(expand=True)  # Expanding the frame to fill the window\n",
    "        \n",
    "        # Creating blank space (padding) above the buttons\n",
    "        tk.Label(frame, text=\"Selections\", font=(\"Comic Sans MS\", 25, \"bold\"), bg=\"white\", fg=\"black\").pack()  # Blank label as padding\n",
    "        \n",
    "        self.create_button(frame, \"Training\", self.option_1_selected, width=15, font=(\"Comic Sans MS\", 12, 'bold'), fg=\"white\", bg=\"#0080FE\")\n",
    "        self.create_button(frame, \"PvP\", self.option_2_selected, width=15, font=(\"Comic Sans MS\", 12, 'bold'), fg=\"white\", bg=\"#0080FE\")\n",
    "        self.create_button(frame, \"Exit\", self.option_3_selected, width=15, font=(\"Comic Sans MS\", 12, 'bold'), fg=\"white\", bg=\"#0080FE\")\n",
    "\n",
    "    def create_button(self, frame, text, command, **kwargs):\n",
    "        button = tk.Button(frame, text=text, command=command, **kwargs)\n",
    "        button.pack(side='top', pady=5)\n",
    "\n",
    "    def option_1_selected(self):\n",
    "        print(\"Option 1 selected\")\n",
    "\n",
    "    def option_2_selected(self):\n",
    "        print(\"Option 2 selected\")\n",
    "\n",
    "    # exit function\n",
    "    def option_3_selected(self):\n",
    "        print(\"'Exit' selected\")\n",
    "        self.root.destroy()  # Close the Tkinter window\n",
    "\n",
    "def main():\n",
    "    root = tk.Tk()\n",
    "    app = MainMenu(root)\n",
    "    root.mainloop()\n",
    "\n",
    "if __name__ == \"__main__\":\n",
    "    main()\n"
   ]
  },
  {
   "cell_type": "code",
   "execution_count": null,
   "id": "44958998",
   "metadata": {},
   "outputs": [],
   "source": []
  }
 ],
 "metadata": {
  "kernelspec": {
   "display_name": "Python 3 (ipykernel)",
   "language": "python",
   "name": "python3"
  },
  "language_info": {
   "codemirror_mode": {
    "name": "ipython",
    "version": 3
   },
   "file_extension": ".py",
   "mimetype": "text/x-python",
   "name": "python",
   "nbconvert_exporter": "python",
   "pygments_lexer": "ipython3",
   "version": "3.10.9"
  }
 },
 "nbformat": 4,
 "nbformat_minor": 5
}
