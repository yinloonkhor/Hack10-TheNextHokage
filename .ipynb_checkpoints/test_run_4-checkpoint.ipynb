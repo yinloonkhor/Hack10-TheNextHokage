{
 "cells": [
  {
   "cell_type": "markdown",
   "id": "b64fce08",
   "metadata": {},
   "source": [
    "### Helper Function"
   ]
  },
  {
   "cell_type": "code",
   "execution_count": 1,
   "id": "613c7a89",
   "metadata": {},
   "outputs": [],
   "source": [
    "import cv2\n",
    "# ffpyplayer for playing audio\n",
    "from ffpyplayer.player import MediaPlayer\n",
    "\n",
    "def PlayVideo(video_path):\n",
    "    video = cv2.VideoCapture(video_path)\n",
    "    player = MediaPlayer(video_path)\n",
    "    while True:\n",
    "        grabbed, frame = video.read()\n",
    "        audio_frame, val = player.get_frame()\n",
    "        if not grabbed:\n",
    "            # print(\"End of video\")\n",
    "            break\n",
    "        if cv2.waitKey(28) & 0xFF == ord(\"q\"):\n",
    "            break\n",
    "        cv2.imshow(\"Video\", frame)\n",
    "        if val != 'eof' and audio_frame is not None:\n",
    "            # audio\n",
    "            img, t = audio_frame\n",
    "    video.release()\n",
    "    cv2.destroyAllWindows()"
   ]
  },
  {
   "cell_type": "markdown",
   "id": "a1aa5af6",
   "metadata": {},
   "source": [
    "### Approach 1: Function "
   ]
  },
  {
   "cell_type": "code",
   "execution_count": 24,
   "id": "76908905",
   "metadata": {},
   "outputs": [],
   "source": [
    "import os\n",
    "\n",
    "def fireball_jutsu(sign):\n",
    "    success = ['horse', 'tiger', 'snake', 'ram', 'monkey', 'boar', 'horse', 'tiger']\n",
    "    damage = 150\n",
    "    \n",
    "    if len(fireball_list) == len(success):\n",
    "        return True, damage, os.getcwd() + \"\\\\animation\\\\fireball_jutsu_vid.mp4\"\n",
    "    elif sign == success[len(summoning_list)]:\n",
    "        fireball_list.append(sign)\n",
    "        \n",
    "    return [False, damage, \"\"]\n",
    "\n",
    "fireball_list = []"
   ]
  },
  {
   "cell_type": "code",
   "execution_count": 25,
   "id": "62ebcbd8",
   "metadata": {},
   "outputs": [],
   "source": [
    "def summoning_jutsu(sign):\n",
    "    success = ['boar', 'dog', 'bird', 'monkey', 'ram']\n",
    "    damage = 300\n",
    "\n",
    "    if len(summoning_list) == len(success):\n",
    "        return True, damage, os.getcwd() + \"\\\\animation\\\\summoning_jutsu_vid.mp4\"\n",
    "    elif sign == success[len(summoning_list)]:\n",
    "        summoning_list.append(sign)\n",
    "        \n",
    "    return [False, damage, \"\"]\n",
    "\n",
    "summoning_list = []"
   ]
  },
  {
   "cell_type": "code",
   "execution_count": 27,
   "id": "ab93b1ee",
   "metadata": {},
   "outputs": [
    {
     "name": "stdout",
     "output_type": "stream",
     "text": [
      "['boar']\n",
      "['boar', 'dog']\n",
      "['boar', 'dog', 'bird']\n",
      "['boar', 'dog', 'bird', 'monkey']\n",
      "['boar', 'dog', 'bird', 'monkey', 'ram']\n",
      "Player dealed 300 dmg\n",
      "['boar']\n"
     ]
    }
   ],
   "source": [
    "from ultralytics import YOLO\n",
    "import cv2\n",
    "\n",
    "\n",
    "model = YOLO('best.pt')\n",
    "\n",
    "# start webcam\n",
    "cap = cv2.VideoCapture(0)\n",
    "cap.set(3, 640)\n",
    "cap.set(4, 480)\n",
    "\n",
    "# threshold\n",
    "thres = 0.4\n",
    "\n",
    "while True:\n",
    "    success, img = cap.read()\n",
    "    \n",
    "    # vertically flip image\n",
    "    img = cv2.flip(img, 1)\n",
    "    \n",
    "    results = model(img, stream=True, verbose=False) # conf=thres\n",
    "\n",
    "    for result in results:\n",
    "        img = result.plot()\n",
    "        if len(result.boxes.cls) == 1:\n",
    "            hand_sign = result.names[int(result.boxes.cls)]\n",
    "        else:\n",
    "            hand_sign = None\n",
    "\n",
    "    cv2.imshow('Webcam', img)\n",
    "\n",
    "    if hand_sign is not None:\n",
    "        for result in [summoning_jutsu(hand_sign), fireball_jutsu(hand_sign)]:\n",
    "            success, damage, video_path = result\n",
    "            if success:\n",
    "                PlayVideo(file)\n",
    "                print(f'Player dealed {damage} dmg')\n",
    "                summoning_list, fireball_list = [], []\n",
    "                \n",
    "    if cv2.waitKey(1) == ord('q'):\n",
    "        break\n",
    "\n",
    "cap.release()\n",
    "cv2.destroyAllWindows()"
   ]
  },
  {
   "cell_type": "markdown",
   "id": "d7f12b58",
   "metadata": {},
   "source": [
    "### Approach 2: Class"
   ]
  },
  {
   "cell_type": "code",
   "execution_count": 2,
   "id": "d4266302",
   "metadata": {},
   "outputs": [],
   "source": [
    "jutsu_list = []\n",
    "    \n",
    "class Jutsu:   \n",
    "    def __init__(self, success, damage, video_path):\n",
    "        jutsu_list.append(self)\n",
    "        self.success = success\n",
    "        self.damage = damage\n",
    "        self.video_path = video_path\n",
    "        self.hand_signs_detected = []\n",
    "        self.detected = False\n",
    "    \n",
    "    def check_pattern(self, hand_sign):\n",
    "        if len(self.hand_signs_detected) == len(self.success):\n",
    "            self.detected = True\n",
    "        elif hand_sign == self.success[len(self.hand_signs_detected)]:\n",
    "            self.hand_signs_detected.append(hand_sign)\n",
    "    \n",
    "    def reset(self):\n",
    "        for jutsu in jutsu_list:\n",
    "            jutsu.hand_signs_detected = []\n",
    "            jutsu.detected = False"
   ]
  },
  {
   "cell_type": "code",
   "execution_count": 3,
   "id": "cc3584e8",
   "metadata": {},
   "outputs": [],
   "source": [
    "import os \n",
    "\n",
    "success = ['boar', 'dog', 'bird', 'monkey', 'ram']\n",
    "damage = 300\n",
    "video_path = os.getcwd() + \"\\\\animation\\\\summoning_jutsu_vid.mp4\"\n",
    "summoningJutsu = Jutsu(success, damage, video_path)"
   ]
  },
  {
   "cell_type": "code",
   "execution_count": 4,
   "id": "d10905a4",
   "metadata": {},
   "outputs": [],
   "source": [
    "success = ['horse', 'tiger', 'snake', 'ram', 'monkey', 'boar', 'horse', 'tiger']\n",
    "damage = 150\n",
    "video_path = os.getcwd() + \"\\\\animation\\\\fireball_jutsu_vid.mp4\"\n",
    "fireballJutsu = Jutsu(success, damage, video_path)"
   ]
  },
  {
   "cell_type": "code",
   "execution_count": 5,
   "id": "4714d594",
   "metadata": {},
   "outputs": [
    {
     "name": "stdout",
     "output_type": "stream",
     "text": [
      "Player dealed 300 dmg\n"
     ]
    }
   ],
   "source": [
    "from ultralytics import YOLO\n",
    "import cv2\n",
    "\n",
    "\n",
    "model = YOLO('best.pt')\n",
    "\n",
    "# start webcam\n",
    "cap = cv2.VideoCapture(0)\n",
    "cap.set(3, 640)\n",
    "cap.set(4, 480)\n",
    "\n",
    "# threshold\n",
    "thres = 0.4\n",
    "\n",
    "while True:\n",
    "    success, img = cap.read()\n",
    "    \n",
    "    # vertically flip image\n",
    "    img = cv2.flip(img, 1)\n",
    "    \n",
    "    results = model(img, stream=True, verbose=False) # conf=thres\n",
    "\n",
    "    for result in results:\n",
    "        img = result.plot()\n",
    "        if len(result.boxes.cls) == 1:\n",
    "            hand_sign = result.names[int(result.boxes.cls)]\n",
    "        else:\n",
    "            hand_sign = None\n",
    "\n",
    "    cv2.imshow('Webcam', img)\n",
    "\n",
    "    if hand_sign is not None:\n",
    "        for jutsu in jutsu_list:\n",
    "            jutsu.check_pattern(hand_sign)\n",
    "            if jutsu.detected:\n",
    "                PlayVideo(jutsu.video_path)\n",
    "                print(f'Player dealed {jutsu.damage} dmg')\n",
    "                jutsu.reset()\n",
    "                \n",
    "    if cv2.waitKey(1) == ord('q'):\n",
    "        break\n",
    "\n",
    "cap.release()\n",
    "cv2.destroyAllWindows()"
   ]
  },
  {
   "cell_type": "code",
   "execution_count": null,
   "id": "cb402889",
   "metadata": {},
   "outputs": [],
   "source": []
  }
 ],
 "metadata": {
  "kernelspec": {
   "display_name": "Python 3 (ipykernel)",
   "language": "python",
   "name": "python3"
  },
  "language_info": {
   "codemirror_mode": {
    "name": "ipython",
    "version": 3
   },
   "file_extension": ".py",
   "mimetype": "text/x-python",
   "name": "python",
   "nbconvert_exporter": "python",
   "pygments_lexer": "ipython3",
   "version": "3.10.9"
  }
 },
 "nbformat": 4,
 "nbformat_minor": 5
}
