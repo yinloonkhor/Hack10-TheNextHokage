{
 "cells": [
  {
   "cell_type": "markdown",
   "id": "f6fa9519",
   "metadata": {},
   "source": [
    "# The Next Hokage"
   ]
  },
  {
   "cell_type": "markdown",
   "id": "b64fce08",
   "metadata": {},
   "source": [
    "### Helper Function"
   ]
  },
  {
   "cell_type": "code",
   "execution_count": 1,
   "id": "1b25316a",
   "metadata": {},
   "outputs": [],
   "source": [
    "def check_hand_sign(results):\n",
    "    \"\"\"Plot the frame and get the hand sign detected.\"\"\"\n",
    "    for result in results:\n",
    "        frame = result.plot()\n",
    "        if len(result.boxes.cls) == 1:\n",
    "            hand_sign = result.names[int(result.boxes.cls)]\n",
    "        else:\n",
    "            hand_sign = None\n",
    "    \n",
    "    return frame, hand_sign"
   ]
  },
  {
   "cell_type": "code",
   "execution_count": 2,
   "id": "3dc75040",
   "metadata": {},
   "outputs": [],
   "source": [
    "import random\n",
    "\n",
    "def deploy_damage(hand_sign, player_list, player_id):\n",
    "    \"\"\"Deploy Jutsu damage on the opponent.\"\"\"\n",
    "    player = player_list[player_id-1]\n",
    "    other_player_id = 2 if player_id == 1 else 1\n",
    "    other_player = player_list[other_player_id-1]\n",
    "    defeated = False\n",
    "    if hand_sign is not None:\n",
    "        for jutsu in player.jutsu_list:\n",
    "            jutsu.check_pattern(hand_sign, player_id)\n",
    "            if jutsu.detected:\n",
    "                print(f'Player {player_id} deployed {jutsu.name}!')\n",
    "                playVideo(jutsu.video_path)\n",
    "                \n",
    "                # 20% damage variation\n",
    "                damage = int(jutsu.damage*random.uniform(0.8, 1.2))\n",
    "                other_player.health -= damage\n",
    "                \n",
    "                if other_player.health < 0:\n",
    "                    print(f'Player {player_id} defeated Player {other_player_id}!')\n",
    "                    defeated = True\n",
    "                else:\n",
    "                    print(f'Player {other_player_id} suffered {damage} damage and left {other_player.health} hp.\\n')\n",
    "                    \n",
    "                player.resetJutsu()\n",
    "                break\n",
    "    \n",
    "    return defeated"
   ]
  },
  {
   "cell_type": "code",
   "execution_count": 3,
   "id": "613c7a89",
   "metadata": {},
   "outputs": [],
   "source": [
    "import cv2\n",
    "# ffpyplayer for playing audio\n",
    "from ffpyplayer.player import MediaPlayer\n",
    "\n",
    "def playVideo(video_path):\n",
    "    \"\"\"Play video from specified video path.\"\"\"\n",
    "    video = cv2.VideoCapture(video_path)\n",
    "    player = MediaPlayer(video_path)\n",
    "    while True:\n",
    "        grabbed, frame = video.read()\n",
    "        audio_frame, val = player.get_frame()\n",
    "        if not grabbed:\n",
    "            # print(\"End of video\")\n",
    "            break\n",
    "        if cv2.waitKey(28) & 0xFF == ord(\"q\"):\n",
    "            break\n",
    "        cv2.imshow(\"Video\", frame)\n",
    "        if val != 'eof' and audio_frame is not None:\n",
    "            # audio\n",
    "            img, t = audio_frame\n",
    "    video.release()\n",
    "    cv2.destroyAllWindows()"
   ]
  },
  {
   "cell_type": "code",
   "execution_count": 4,
   "id": "d4266302",
   "metadata": {},
   "outputs": [],
   "source": [
    "jutsu_list = []\n",
    "    \n",
    "class Jutsu:\n",
    "    \"\"\"\n",
    "    A base class for creating Jutsu.\n",
    "    \n",
    "    Attributes:\n",
    "        name (str): Name of Jutsu technique\n",
    "        success (list): Jutsu technique pattern.\n",
    "        damage (int): Amount of damage.\n",
    "        video_path (Path): Path to the Jutsu animation.\n",
    "        hand_signs_detected (list): List of successful Jutsu signs.\n",
    "        detected (bool): Flag to enable video playing.\n",
    "    \"\"\"\n",
    "    \n",
    "    def __init__(self, name, success, damage, video_path):\n",
    "        \"\"\"\n",
    "        Initializes the Jutsu class.\n",
    "\n",
    "        Args:\n",
    "            name (str): Name of Jutsu technique\n",
    "            success (list): Jutsu technique pattern.\n",
    "            damage (int): Amount of damage.\n",
    "            video_path (Path): Path to the Jutsu animation.\n",
    "        \"\"\"\n",
    "        jutsu_list.append(self)\n",
    "        self.name = name\n",
    "        self.success = success\n",
    "        self.damage = damage\n",
    "        self.video_path = video_path\n",
    "        self.hand_signs_detected = []\n",
    "        self.detected = False\n",
    "    \n",
    "    def check_pattern(self, hand_sign, player_id):\n",
    "        \"\"\"Validate Jutsu pattern.\"\"\"\n",
    "        if len(self.hand_signs_detected) == len(self.success):\n",
    "            self.detected = True\n",
    "        elif hand_sign == self.success[len(self.hand_signs_detected)]:\n",
    "            self.hand_signs_detected.append(hand_sign)\n",
    "            print(f'{hand_sign.title()} detected for Player {player_id}.')"
   ]
  },
  {
   "cell_type": "code",
   "execution_count": 5,
   "id": "25b74b3b",
   "metadata": {},
   "outputs": [],
   "source": [
    "import copy\n",
    "\n",
    "class Player:\n",
    "    \"\"\"\n",
    "    A base class for creating Jutsu.\n",
    "    \n",
    "    Attributes:\n",
    "        jutsu_list (list): All Jutsu technique patterns.\n",
    "        health (int): Player health.\n",
    "    \"\"\"\n",
    "    \n",
    "    def __init__(self, jutsu_list):\n",
    "        \"\"\"\n",
    "        Initializes the Player class.\n",
    "\n",
    "        Args:\n",
    "            jutsu_list (list): All Jutsu technique patterns.\n",
    "        \"\"\"\n",
    "        self.jutsu_list = copy.deepcopy(jutsu_list)\n",
    "        self.health = 1000\n",
    "\n",
    "    def resetJutsu(self):\n",
    "        \"\"\"Reset lists of successful Jutsu signs.\"\"\"\n",
    "        for jutsu in self.jutsu_list:\n",
    "            jutsu.hand_signs_detected = []\n",
    "            jutsu.detected = False"
   ]
  },
  {
   "cell_type": "markdown",
   "id": "5b253f40",
   "metadata": {},
   "source": [
    "### Main Code"
   ]
  },
  {
   "cell_type": "markdown",
   "id": "37103b03",
   "metadata": {},
   "source": [
    "Create three Justu as examples for the game."
   ]
  },
  {
   "cell_type": "code",
   "execution_count": 6,
   "id": "cc3584e8",
   "metadata": {},
   "outputs": [],
   "source": [
    "import os \n",
    "\n",
    "name = 'Summoning Jutsu'\n",
    "success = ['boar', 'dog', 'bird', 'monkey', 'ram']\n",
    "damage = 200\n",
    "video_path = os.getcwd() + \"\\\\animation\\\\summoning_jutsu_vid.mp4\"\n",
    "summoningJutsu = Jutsu(name, success, damage, video_path)"
   ]
  },
  {
   "cell_type": "code",
   "execution_count": 7,
   "id": "d10905a4",
   "metadata": {},
   "outputs": [],
   "source": [
    "name = 'Fireball Jutsu'\n",
    "success = ['horse', 'tiger', 'snake', 'ram', 'monkey', 'boar', 'horse', 'tiger']\n",
    "damage = 300\n",
    "video_path = os.getcwd() + \"\\\\animation\\\\fireball_jutsu_vid.mp4\"\n",
    "fireballJutsu = Jutsu(name, success, damage, video_path)"
   ]
  },
  {
   "cell_type": "code",
   "execution_count": 8,
   "id": "dfa170df",
   "metadata": {},
   "outputs": [],
   "source": [
    "name = 'Chidori Jutsu'\n",
    "success = ['ox', 'hare', 'monkey']\n",
    "damage = 100\n",
    "video_path = os.getcwd() + \"\\\\animation\\\\chidori_jutsu_vid.mp4\"\n",
    "chidoriJutsu = Jutsu(name, success, damage, video_path)"
   ]
  },
  {
   "cell_type": "markdown",
   "id": "90d348f8",
   "metadata": {},
   "source": [
    "### Player"
   ]
  },
  {
   "cell_type": "markdown",
   "id": "75b9fdc2",
   "metadata": {},
   "source": [
    "Create two players for the game."
   ]
  },
  {
   "cell_type": "code",
   "execution_count": 9,
   "id": "cd731be1",
   "metadata": {},
   "outputs": [],
   "source": [
    "player1 = Player(jutsu_list)\n",
    "player2 = Player(jutsu_list)\n",
    "player_list = [player1, player2]"
   ]
  },
  {
   "cell_type": "markdown",
   "id": "0ce1a59c",
   "metadata": {},
   "source": [
    "### Start the game!"
   ]
  },
  {
   "cell_type": "markdown",
   "id": "70bf1527",
   "metadata": {},
   "source": [
    "Instruction: Player has to display specific Jutsu technique pattern to deal damage. The Jutsu technique is described on the start of the game. Once the Jutsu technique is accomplised, an animation will be displayed as well as the damage done. "
   ]
  },
  {
   "cell_type": "code",
   "execution_count": 10,
   "id": "4714d594",
   "metadata": {},
   "outputs": [
    {
     "name": "stdout",
     "output_type": "stream",
     "text": [
      "Welcome to The Next Hokage!\n",
      "\n",
      "Instruction: Player has to display specific Jutsu technique pattern to deal damage.\n",
      "Jutsu Techniques:\n",
      "Summoning Jutsu: boar, dog, bird, monkey, ram\n",
      "Fireball Jutsu: horse, tiger, snake, ram, monkey, boar, horse, tiger\n",
      "Chidori Jutsu: ox, hare, monkey\n",
      "\n",
      "Boar detected for Player 2.\n",
      "Horse detected for Player 1.\n",
      "Dog detected for Player 2.\n",
      "Bird detected for Player 2.\n",
      "Monkey detected for Player 2.\n",
      "Ram detected for Player 2.\n",
      "Player 2 deployed Summoning Jutsu!\n",
      "Player 1 suffered 200 damage and left 835 hp.\n",
      "\n",
      "Game exit.\n"
     ]
    }
   ],
   "source": [
    "from ultralytics import YOLO\n",
    "import cv2\n",
    "\n",
    "\n",
    "model = YOLO('best.pt')\n",
    "\n",
    "# start webcam\n",
    "cap = cv2.VideoCapture(0)\n",
    "cap.set(3, 640)\n",
    "cap.set(4, 480)\n",
    "\n",
    "# threshold\n",
    "thres = 0.4\n",
    "\n",
    "# display instructions\n",
    "print('Welcome to The Next Hokage!')\n",
    "print('\\nInstruction: Player has to display specific Jutsu technique pattern to deal damage.')\n",
    "print('Jutsu Techniques:')\n",
    "for jutsu in jutsu_list:\n",
    "    print(f'{jutsu.name}: {\", \".join(jutsu.success)}')\n",
    "print()\n",
    "\n",
    "\n",
    "while True:\n",
    "    success, img = cap.read()\n",
    "    \n",
    "    # vertically flip image\n",
    "    img = cv2.flip(img, 1)\n",
    "    left_frame = img[:, :img.shape[1]//2]\n",
    "    right_frame = img[:, img.shape[1]//2:]\n",
    "    \n",
    "    results_player1 = model(left_frame, stream=True, verbose=False) # conf=thres\n",
    "    results_player2 = model(right_frame, stream=True, verbose=False)\n",
    "    left_frame, hand_sign_player1 = check_hand_sign(results_player1)\n",
    "    right_frame, hand_sign_player2 = check_hand_sign(results_player2)\n",
    "            \n",
    "    cv2.imshow('Player1', left_frame)\n",
    "    cv2.imshow('Player2', right_frame)\n",
    "    \n",
    "    defeated1 = deploy_damage(hand_sign_player1, player_list, 1)\n",
    "    defeated2 = deploy_damage(hand_sign_player2, player_list, 2)\n",
    "    \n",
    "    if cv2.waitKey(1) == ord('q') or defeated1 or defeated2:\n",
    "        print('Game exit.')\n",
    "        break\n",
    "\n",
    "cap.release()\n",
    "cv2.destroyAllWindows()"
   ]
  },
  {
   "cell_type": "code",
   "execution_count": null,
   "id": "493bbed9",
   "metadata": {},
   "outputs": [],
   "source": []
  }
 ],
 "metadata": {
  "kernelspec": {
   "display_name": "Python 3 (ipykernel)",
   "language": "python",
   "name": "python3"
  },
  "language_info": {
   "codemirror_mode": {
    "name": "ipython",
    "version": 3
   },
   "file_extension": ".py",
   "mimetype": "text/x-python",
   "name": "python",
   "nbconvert_exporter": "python",
   "pygments_lexer": "ipython3",
   "version": "3.10.9"
  }
 },
 "nbformat": 4,
 "nbformat_minor": 5
}
