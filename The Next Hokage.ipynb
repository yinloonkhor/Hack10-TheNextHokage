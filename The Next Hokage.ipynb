{
 "cells": [
  {
   "cell_type": "markdown",
   "id": "f6fa9519",
   "metadata": {},
   "source": [
    "# The Next Hokage"
   ]
  },
  {
   "cell_type": "markdown",
   "id": "b64fce08",
   "metadata": {},
   "source": [
    "### Helper Function"
   ]
  },
  {
   "cell_type": "code",
   "execution_count": 1,
   "id": "613c7a89",
   "metadata": {},
   "outputs": [],
   "source": [
    "import cv2\n",
    "# ffpyplayer for playing audio\n",
    "from ffpyplayer.player import MediaPlayer\n",
    "\n",
    "def PlayVideo(video_path):\n",
    "    \"\"\"Play video from specified video path.\"\"\"\n",
    "    video = cv2.VideoCapture(video_path)\n",
    "    player = MediaPlayer(video_path)\n",
    "    while True:\n",
    "        grabbed, frame = video.read()\n",
    "        audio_frame, val = player.get_frame()\n",
    "        if not grabbed:\n",
    "            # print(\"End of video\")\n",
    "            break\n",
    "        if cv2.waitKey(28) & 0xFF == ord(\"q\"):\n",
    "            break\n",
    "        cv2.imshow(\"Video\", frame)\n",
    "        if val != 'eof' and audio_frame is not None:\n",
    "            # audio\n",
    "            img, t = audio_frame\n",
    "    video.release()\n",
    "    cv2.destroyAllWindows()"
   ]
  },
  {
   "cell_type": "code",
   "execution_count": 2,
   "id": "d4266302",
   "metadata": {},
   "outputs": [],
   "source": [
    "jutsu_list = []\n",
    "    \n",
    "class Jutsu:\n",
    "    \"\"\"\n",
    "    A base class for creating Jutsu.\n",
    "    \n",
    "    Attributes:\n",
    "        name (str): Name of Jutsu technique\n",
    "        success (list): Jutsu technique pattern.\n",
    "        damage (int): Amount of damage.\n",
    "        video_path (Path): Path to the Jutsu animation.\n",
    "        hand_signs_detected (list): List of successful Jutsu signs.\n",
    "        detected (bool): Flag to enable video playing.\n",
    "    \"\"\"\n",
    "    \n",
    "    def __init__(self, name, success, damage, video_path):\n",
    "        \"\"\"\n",
    "        Initializes the Jutsu class.\n",
    "\n",
    "        Args:\n",
    "            name (str): Name of Jutsu technique\n",
    "            success (list): Jutsu technique pattern.\n",
    "            damage (int): Amount of damage.\n",
    "            video_path (Path): Path to the Jutsu animation.\n",
    "        \"\"\"\n",
    "        jutsu_list.append(self)\n",
    "        self.name = name\n",
    "        self.success = success\n",
    "        self.damage = damage\n",
    "        self.video_path = video_path\n",
    "        self.hand_signs_detected = []\n",
    "        self.detected = False\n",
    "    \n",
    "    def check_pattern(self, hand_sign):\n",
    "        \"\"\"Validate Jutsu pattern.\"\"\"\n",
    "        if len(self.hand_signs_detected) == len(self.success):\n",
    "            self.detected = True\n",
    "        elif hand_sign == self.success[len(self.hand_signs_detected)]:\n",
    "            self.hand_signs_detected.append(hand_sign)\n",
    "            print(f'{hand_sign} detected.')\n",
    "    \n",
    "    def reset(self):\n",
    "        \"\"\"Reset lists of successful Jutsu signs.\"\"\"\n",
    "        for jutsu in jutsu_list:\n",
    "            jutsu.hand_signs_detected = []\n",
    "            jutsu.detected = False"
   ]
  },
  {
   "cell_type": "markdown",
   "id": "5b253f40",
   "metadata": {},
   "source": [
    "### Main Code"
   ]
  },
  {
   "cell_type": "markdown",
   "id": "37103b03",
   "metadata": {},
   "source": [
    "Create two Justu as example for the game."
   ]
  },
  {
   "cell_type": "code",
   "execution_count": 3,
   "id": "cc3584e8",
   "metadata": {},
   "outputs": [],
   "source": [
    "import os \n",
    "\n",
    "name = 'Summoning Jutsu'\n",
    "success = ['boar', 'dog', 'bird', 'monkey', 'ram']\n",
    "damage = 200\n",
    "video_path = os.getcwd() + \"\\\\animation\\\\summoning_jutsu_vid.mp4\"\n",
    "summoningJutsu = Jutsu(name, success, damage, video_path)"
   ]
  },
  {
   "cell_type": "code",
   "execution_count": 4,
   "id": "d10905a4",
   "metadata": {},
   "outputs": [],
   "source": [
    "name = 'Fireball Jutsu'\n",
    "success = ['horse', 'tiger', 'snake', 'ram', 'monkey', 'boar', 'horse', 'tiger']\n",
    "damage = 300\n",
    "video_path = os.getcwd() + \"\\\\animation\\\\fireball_jutsu_vid.mp4\"\n",
    "fireballJutsu = Jutsu(name, success, damage, video_path)"
   ]
  },
  {
   "cell_type": "code",
   "execution_count": 5,
   "id": "d10905a4",
   "metadata": {},
   "outputs": [],
   "source": [
    "name = 'Chidori Jutsu'\n",
    "success = ['ox', 'hare', 'monkey']\n",
    "damage = 100\n",
    "video_path = os.getcwd() + \"\\\\animation\\\\chidori_jutsu_vid.mp4\"\n",
    "chidoriJutsu = Jutsu(name, success, damage, video_path)"
   ]
  },
  {
   "cell_type": "markdown",
   "id": "0ce1a59c",
   "metadata": {},
   "source": [
    "### Start the game!"
   ]
  },
  {
   "cell_type": "markdown",
   "id": "70bf1527",
   "metadata": {},
   "source": [
    "Instruction: Player has to display specific Jutsu technique pattern to deal damage. The Jutsu technique is described on the start of the game. Once the Jutsu technique is accomplised, an animation will be displayed as well as the damage done. "
   ]
  },
  {
   "cell_type": "code",
   "execution_count": 6,
   "id": "4714d594",
   "metadata": {},
   "outputs": [
    {
     "name": "stdout",
     "output_type": "stream",
     "text": [
      "Player dealed 300 dmg\n"
     ]
    }
   ],
   "source": [
    "from ultralytics import YOLO\n",
    "import cv2\n",
    "\n",
    "\n",
    "model = YOLO('best.pt')\n",
    "\n",
    "# start webcam\n",
    "cap = cv2.VideoCapture(0)\n",
    "cap.set(3, 640)\n",
    "cap.set(4, 480)\n",
    "\n",
    "# threshold\n",
    "thres = 0.4\n",
    "\n",
    "# display instructions\n",
    "print('Welcome to The Next Hokage!')\n",
    "print('Jutsu Techniques:')\n",
    "for jutsu in jutsu_list:\n",
    "    print(f'{jutsu.name}: {\", \".join(jutsu.success)}')\n",
    "print()\n",
    "\n",
    "while True:\n",
    "    success, img = cap.read()\n",
    "    \n",
    "    # vertically flip image\n",
    "    img = cv2.flip(img, 1)\n",
    "    \n",
    "    results = model(img, stream=True, verbose=False) # conf=thres\n",
    "\n",
    "    for result in results:\n",
    "        img = result.plot()\n",
    "        if len(result.boxes.cls) == 1:\n",
    "            hand_sign = result.names[int(result.boxes.cls)]\n",
    "        else:\n",
    "            hand_sign = None\n",
    "\n",
    "    cv2.imshow('Webcam', img)\n",
    "\n",
    "    if hand_sign is not None:\n",
    "        for jutsu in jutsu_list:\n",
    "            jutsu.check_pattern(hand_sign)\n",
    "            if jutsu.detected:\n",
    "                PlayVideo(jutsu.video_path)\n",
    "                print(f'Player deployed {jutsu.name} and dealed {jutsu.damage} damage.')\n",
    "                jutsu.reset()\n",
    "                \n",
    "    if cv2.waitKey(1) == ord('q'):\n",
    "        break\n",
    "\n",
    "cap.release()\n",
    "cv2.destroyAllWindows()"
   ]
  },
  {
   "cell_type": "code",
   "execution_count": null,
   "id": "cb402889",
   "metadata": {},
   "outputs": [],
   "source": []
  }
 ],
 "metadata": {
  "kernelspec": {
   "display_name": "Python 3 (ipykernel)",
   "language": "python",
   "name": "python3"
  },
  "language_info": {
   "codemirror_mode": {
    "name": "ipython",
    "version": 3
   },
   "file_extension": ".py",
   "mimetype": "text/x-python",
   "name": "python",
   "nbconvert_exporter": "python",
   "pygments_lexer": "ipython3",
   "version": "3.10.9"
  }
 },
 "nbformat": 4,
 "nbformat_minor": 5
}
